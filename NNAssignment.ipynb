{
 "cells": [
  {
   "cell_type": "code",
   "execution_count": 21,
   "id": "e8cddb1c-b54d-4dc2-bf95-38c1581087fb",
   "metadata": {},
   "outputs": [],
   "source": [
    "import torchvision.transforms as transforms\n",
    "import torchvision.datasets as datasets\n",
    "from torch.utils.data import DataLoader\n",
    "\n",
    "# Data Augmentation\n",
    "transform_train = transforms.Compose([\n",
    "    transforms.RandomCrop(32, padding=4),\n",
    "    transforms.RandomHorizontalFlip(),\n",
    "    transforms.ColorJitter(brightness=0.2, contrast=0.2, saturation=0.2),\n",
    "    transforms.ToTensor(),\n",
    "    transforms.Normalize((0.4914, 0.4822, 0.4465),\n",
    "                         (0.2023, 0.1994, 0.2010))\n",
    "])\n",
    "\n",
    "transform_test = transforms.Compose([\n",
    "    transforms.ToTensor(),\n",
    "    transforms.Normalize((0.4914, 0.4822, 0.4465),\n",
    "                         (0.2023, 0.1994, 0.2010))\n",
    "])\n",
    "\n",
    "trainset = datasets.CIFAR10(root='./data', train=True, download=True, transform=transform_train)\n",
    "testset = datasets.CIFAR10(root='./data', train=False, download=True, transform=transform_test)\n",
    "\n",
    "trainloader = DataLoader(trainset, batch_size=64, shuffle=True, pin_memory=True)\n",
    "testloader = DataLoader(testset, batch_size=64, shuffle=False, pin_memory=True)\n"
   ]
  },
  {
   "cell_type": "code",
   "execution_count": 22,
   "id": "8e3dfa2e-2095-4c20-9248-59b7f5368c10",
   "metadata": {},
   "outputs": [],
   "source": [
    "# Architecture\n",
    "import torch\n",
    "import torch.nn as nn\n",
    "import torch.nn.functional as F\n",
    "\n",
    "class IntermediateBlock(nn.Module):\n",
    "    def __init__(self, input_channels, output_channels, num_convs, dropout_rate=0.2):\n",
    "        super().__init__()\n",
    "        self.num_convs = num_convs\n",
    "\n",
    "        # L convolutional layers\n",
    "        self.convs = nn.ModuleList([\n",
    "           nn.Sequential(\n",
    "               nn.Conv2d(input_channels, output_channels, kernel_size=3, padding=1),\n",
    "               nn.BatchNorm2d(output_channels),\n",
    "               nn.ReLU(),\n",
    "               nn.Dropout(dropout_rate)\n",
    "            )\n",
    "            for _ in range(num_convs)\n",
    "        ])\n",
    "\n",
    "        # FC layer that maps from input_channels to num_convs\n",
    "        self.fc = nn.Linear(input_channels, num_convs)\n",
    "\n",
    "    def forward(self, x):\n",
    "        B, C, H, W = x.shape\n",
    "        \n",
    "        # Compute channel-wise mean vector (m)\n",
    "        m = x.mean(dim=(2, 3))  # shape [B, C]\n",
    "\n",
    "        # Compute coefficients (a) using the FC layer\n",
    "        a = self.fc(m)  # shape [B, L]\n",
    "        a = F.softmax(a, dim=1)  # normalize weights\n",
    "        \n",
    "        # Apply each conv layer to the same input\n",
    "        conv_outputs = torch.stack([conv(x) for conv in self.convs], dim=1)\n",
    "\n",
    "        # Reshape a to broadcast over conv_outputs\n",
    "        a = a.view(B, self.num_convs, 1, 1, 1)\n",
    "\n",
    "        # Weighted sum over L convolution outputs\n",
    "        x_prime = (a * conv_outputs).sum(dim=1)\n",
    "        return x_prime\n",
    "\n",
    "class OutputBlock(nn.Module):\n",
    "    def __init__(self, input_channels, hidden_dim=128):\n",
    "        super().__init__()\n",
    "        self.fc1 = nn.Linear(input_channels, hidden_dim)\n",
    "        self.fc2 = nn.Linear(hidden_dim, 10)\n",
    "\n",
    "    def forward(self, x):\n",
    "        B, C, H, W = x.shape\n",
    "        m = x.mean(dim=(2, 3))  # shape [B, C]\n",
    "        x = F.relu(self.fc1(m))\n",
    "        logits = self.fc2(x)\n",
    "        return logits\n",
    "\n",
    "class CIFARNet(nn.Module):\n",
    "    def __init__(self):\n",
    "        super().__init__()\n",
    "        self.block1 = IntermediateBlock(3, 32, num_convs=3, dropout_rate=0.2)\n",
    "        self.block2 = IntermediateBlock(32, 64, num_convs=3, dropout_rate=0.3)\n",
    "        self.block3 = IntermediateBlock(64, 96, num_convs=3, dropout_rate=0.3)\n",
    "        self.block4 = IntermediateBlock(96, 128, num_convs=3, dropout_rate=0.3)\n",
    "        self.block5 = IntermediateBlock(128, 192, num_convs=2, dropout_rate=0.3)\n",
    "        self.block6 = IntermediateBlock(192, 256, num_convs=2, dropout_rate=0.3)\n",
    "        self.output = OutputBlock(256)\n",
    "\n",
    "    def forward(self, x):\n",
    "        x = self.block1(x)\n",
    "        x = F.relu(x)\n",
    "        x = self.block2(x)\n",
    "        x = F.relu(x)\n",
    "        x = self.block3(x)\n",
    "        x = F.relu(x)\n",
    "        x = self.block4(x)\n",
    "        x = F.relu(x)\n",
    "        x = self.block5(x)\n",
    "        x = F.relu(x)\n",
    "        x = self.block6(x)\n",
    "        x = F.relu(x)\n",
    "        logits = self.output(x)\n",
    "        return logits\n"
   ]
  },
  {
   "cell_type": "code",
   "execution_count": 23,
   "id": "947d1995-27b9-435e-aa6b-9510c257a1e9",
   "metadata": {},
   "outputs": [
    {
     "name": "stderr",
     "output_type": "stream",
     "text": [
      "Epoch 1/150: 100%|██████████| 782/782 [02:51<00:00,  4.55it/s, accuracy=31.1, loss=1.41]\n"
     ]
    },
    {
     "name": "stdout",
     "output_type": "stream",
     "text": [
      "Epoch 1: Train Accuracy = 31.11%, Test Accuracy = 33.63%, Duration: 183.559s.\n"
     ]
    },
    {
     "name": "stderr",
     "output_type": "stream",
     "text": [
      "Epoch 2/150: 100%|██████████| 782/782 [03:09<00:00,  4.13it/s, accuracy=48, loss=1.7]   \n"
     ]
    },
    {
     "name": "stdout",
     "output_type": "stream",
     "text": [
      "Epoch 2: Train Accuracy = 48.03%, Test Accuracy = 52.06%, Duration: 201.963s.\n"
     ]
    },
    {
     "name": "stderr",
     "output_type": "stream",
     "text": [
      "Epoch 3/150: 100%|██████████| 782/782 [03:22<00:00,  3.86it/s, accuracy=57.3, loss=1.15]\n"
     ]
    },
    {
     "name": "stdout",
     "output_type": "stream",
     "text": [
      "Epoch 3: Train Accuracy = 57.32%, Test Accuracy = 49.88%, Duration: 214.753s.\n"
     ]
    },
    {
     "name": "stderr",
     "output_type": "stream",
     "text": [
      "Epoch 4/150: 100%|██████████| 782/782 [03:19<00:00,  3.92it/s, accuracy=62.1, loss=1.22]\n"
     ]
    },
    {
     "name": "stdout",
     "output_type": "stream",
     "text": [
      "Epoch 4: Train Accuracy = 62.11%, Test Accuracy = 54.15%, Duration: 212.505s.\n"
     ]
    },
    {
     "name": "stderr",
     "output_type": "stream",
     "text": [
      "Epoch 5/150: 100%|██████████| 782/782 [03:53<00:00,  3.35it/s, accuracy=65.7, loss=1.26] \n"
     ]
    },
    {
     "name": "stdout",
     "output_type": "stream",
     "text": [
      "Epoch 5: Train Accuracy = 65.68%, Test Accuracy = 63.71%, Duration: 248.019s.\n"
     ]
    },
    {
     "name": "stderr",
     "output_type": "stream",
     "text": [
      "Epoch 6/150: 100%|██████████| 782/782 [03:55<00:00,  3.32it/s, accuracy=69, loss=1.35]   \n"
     ]
    },
    {
     "name": "stdout",
     "output_type": "stream",
     "text": [
      "Epoch 6: Train Accuracy = 68.96%, Test Accuracy = 70.49%, Duration: 250.731s.\n"
     ]
    },
    {
     "name": "stderr",
     "output_type": "stream",
     "text": [
      "Epoch 7/150: 100%|██████████| 782/782 [03:53<00:00,  3.35it/s, accuracy=71.1, loss=0.883]\n"
     ]
    },
    {
     "name": "stdout",
     "output_type": "stream",
     "text": [
      "Epoch 7: Train Accuracy = 71.08%, Test Accuracy = 67.41%, Duration: 247.720s.\n"
     ]
    },
    {
     "name": "stderr",
     "output_type": "stream",
     "text": [
      "Epoch 8/150: 100%|██████████| 782/782 [03:54<00:00,  3.34it/s, accuracy=72.9, loss=0.975]\n"
     ]
    },
    {
     "name": "stdout",
     "output_type": "stream",
     "text": [
      "Epoch 8: Train Accuracy = 72.94%, Test Accuracy = 65.90%, Duration: 248.324s.\n"
     ]
    },
    {
     "name": "stderr",
     "output_type": "stream",
     "text": [
      "Epoch 9/150: 100%|██████████| 782/782 [03:52<00:00,  3.36it/s, accuracy=74.6, loss=1.17] \n"
     ]
    },
    {
     "name": "stdout",
     "output_type": "stream",
     "text": [
      "Epoch 9: Train Accuracy = 74.61%, Test Accuracy = 71.74%, Duration: 247.060s.\n"
     ]
    },
    {
     "name": "stderr",
     "output_type": "stream",
     "text": [
      "Epoch 10/150: 100%|██████████| 782/782 [03:51<00:00,  3.38it/s, accuracy=76.3, loss=1.06] \n"
     ]
    },
    {
     "name": "stdout",
     "output_type": "stream",
     "text": [
      "Epoch 10: Train Accuracy = 76.30%, Test Accuracy = 73.50%, Duration: 245.614s.\n"
     ]
    },
    {
     "name": "stderr",
     "output_type": "stream",
     "text": [
      "Epoch 11/150: 100%|██████████| 782/782 [03:49<00:00,  3.41it/s, accuracy=77.2, loss=0.859]\n"
     ]
    },
    {
     "name": "stdout",
     "output_type": "stream",
     "text": [
      "Epoch 11: Train Accuracy = 77.20%, Test Accuracy = 74.41%, Duration: 243.707s.\n"
     ]
    },
    {
     "name": "stderr",
     "output_type": "stream",
     "text": [
      "Epoch 12/150: 100%|██████████| 782/782 [03:50<00:00,  3.39it/s, accuracy=78.4, loss=1.4]  \n"
     ]
    },
    {
     "name": "stdout",
     "output_type": "stream",
     "text": [
      "Epoch 12: Train Accuracy = 78.42%, Test Accuracy = 74.16%, Duration: 245.415s.\n"
     ]
    },
    {
     "name": "stderr",
     "output_type": "stream",
     "text": [
      "Epoch 13/150: 100%|██████████| 782/782 [03:50<00:00,  3.39it/s, accuracy=79.2, loss=0.921]\n"
     ]
    },
    {
     "name": "stdout",
     "output_type": "stream",
     "text": [
      "Epoch 13: Train Accuracy = 79.25%, Test Accuracy = 77.79%, Duration: 244.279s.\n"
     ]
    },
    {
     "name": "stderr",
     "output_type": "stream",
     "text": [
      "Epoch 14/150: 100%|██████████| 782/782 [03:49<00:00,  3.41it/s, accuracy=79.9, loss=1.18] \n"
     ]
    },
    {
     "name": "stdout",
     "output_type": "stream",
     "text": [
      "Epoch 14: Train Accuracy = 79.90%, Test Accuracy = 73.83%, Duration: 243.890s.\n"
     ]
    },
    {
     "name": "stderr",
     "output_type": "stream",
     "text": [
      "Epoch 15/150: 100%|██████████| 782/782 [03:49<00:00,  3.41it/s, accuracy=80.7, loss=0.896]\n"
     ]
    },
    {
     "name": "stdout",
     "output_type": "stream",
     "text": [
      "Epoch 15: Train Accuracy = 80.66%, Test Accuracy = 79.16%, Duration: 244.150s.\n"
     ]
    },
    {
     "name": "stderr",
     "output_type": "stream",
     "text": [
      "Epoch 16/150: 100%|██████████| 782/782 [03:50<00:00,  3.40it/s, accuracy=81.3, loss=1.03] \n"
     ]
    },
    {
     "name": "stdout",
     "output_type": "stream",
     "text": [
      "Epoch 16: Train Accuracy = 81.34%, Test Accuracy = 79.16%, Duration: 244.687s.\n"
     ]
    },
    {
     "name": "stderr",
     "output_type": "stream",
     "text": [
      "Epoch 17/150: 100%|██████████| 782/782 [03:48<00:00,  3.42it/s, accuracy=81.9, loss=0.682]\n"
     ]
    },
    {
     "name": "stdout",
     "output_type": "stream",
     "text": [
      "Epoch 17: Train Accuracy = 81.90%, Test Accuracy = 79.64%, Duration: 243.035s.\n"
     ]
    },
    {
     "name": "stderr",
     "output_type": "stream",
     "text": [
      "Epoch 18/150: 100%|██████████| 782/782 [03:47<00:00,  3.43it/s, accuracy=81.9, loss=1.08] \n"
     ]
    },
    {
     "name": "stdout",
     "output_type": "stream",
     "text": [
      "Epoch 18: Train Accuracy = 81.93%, Test Accuracy = 81.33%, Duration: 241.518s.\n"
     ]
    },
    {
     "name": "stderr",
     "output_type": "stream",
     "text": [
      "Epoch 19/150: 100%|██████████| 782/782 [03:51<00:00,  3.38it/s, accuracy=82.3, loss=1.09] \n"
     ]
    },
    {
     "name": "stdout",
     "output_type": "stream",
     "text": [
      "Epoch 19: Train Accuracy = 82.31%, Test Accuracy = 77.56%, Duration: 245.457s.\n"
     ]
    },
    {
     "name": "stderr",
     "output_type": "stream",
     "text": [
      "Epoch 20/150: 100%|██████████| 782/782 [03:46<00:00,  3.45it/s, accuracy=82.9, loss=0.967]\n"
     ]
    },
    {
     "name": "stdout",
     "output_type": "stream",
     "text": [
      "Epoch 20: Train Accuracy = 82.90%, Test Accuracy = 82.53%, Duration: 240.225s.\n"
     ]
    },
    {
     "name": "stderr",
     "output_type": "stream",
     "text": [
      "Epoch 21/150: 100%|██████████| 782/782 [03:46<00:00,  3.45it/s, accuracy=83.3, loss=1.2]  \n"
     ]
    },
    {
     "name": "stdout",
     "output_type": "stream",
     "text": [
      "Epoch 21: Train Accuracy = 83.31%, Test Accuracy = 79.16%, Duration: 239.636s.\n"
     ]
    },
    {
     "name": "stderr",
     "output_type": "stream",
     "text": [
      "Epoch 22/150: 100%|██████████| 782/782 [03:47<00:00,  3.44it/s, accuracy=83.6, loss=0.871]\n"
     ]
    },
    {
     "name": "stdout",
     "output_type": "stream",
     "text": [
      "Epoch 22: Train Accuracy = 83.62%, Test Accuracy = 82.12%, Duration: 241.346s.\n"
     ]
    },
    {
     "name": "stderr",
     "output_type": "stream",
     "text": [
      "Epoch 23/150: 100%|██████████| 782/782 [03:44<00:00,  3.48it/s, accuracy=83.7, loss=0.787]\n"
     ]
    },
    {
     "name": "stdout",
     "output_type": "stream",
     "text": [
      "Epoch 23: Train Accuracy = 83.75%, Test Accuracy = 77.76%, Duration: 237.506s.\n"
     ]
    },
    {
     "name": "stderr",
     "output_type": "stream",
     "text": [
      "Epoch 24/150: 100%|██████████| 782/782 [03:44<00:00,  3.48it/s, accuracy=84, loss=0.886]  \n"
     ]
    },
    {
     "name": "stdout",
     "output_type": "stream",
     "text": [
      "Epoch 24: Train Accuracy = 83.99%, Test Accuracy = 82.22%, Duration: 238.610s.\n"
     ]
    },
    {
     "name": "stderr",
     "output_type": "stream",
     "text": [
      "Epoch 25/150: 100%|██████████| 782/782 [03:44<00:00,  3.48it/s, accuracy=84.2, loss=0.666]\n"
     ]
    },
    {
     "name": "stdout",
     "output_type": "stream",
     "text": [
      "Epoch 25: Train Accuracy = 84.16%, Test Accuracy = 80.97%, Duration: 237.889s.\n"
     ]
    },
    {
     "name": "stderr",
     "output_type": "stream",
     "text": [
      "Epoch 26/150: 100%|██████████| 782/782 [03:46<00:00,  3.44it/s, accuracy=84.6, loss=0.892]\n"
     ]
    },
    {
     "name": "stdout",
     "output_type": "stream",
     "text": [
      "Epoch 26: Train Accuracy = 84.58%, Test Accuracy = 83.22%, Duration: 241.087s.\n"
     ]
    },
    {
     "name": "stderr",
     "output_type": "stream",
     "text": [
      "Epoch 27/150: 100%|██████████| 782/782 [03:41<00:00,  3.54it/s, accuracy=85, loss=1.08]   \n"
     ]
    },
    {
     "name": "stdout",
     "output_type": "stream",
     "text": [
      "Epoch 27: Train Accuracy = 85.01%, Test Accuracy = 83.76%, Duration: 234.846s.\n"
     ]
    },
    {
     "name": "stderr",
     "output_type": "stream",
     "text": [
      "Epoch 28/150: 100%|██████████| 782/782 [03:43<00:00,  3.50it/s, accuracy=84.7, loss=1.06] \n"
     ]
    },
    {
     "name": "stdout",
     "output_type": "stream",
     "text": [
      "Epoch 28: Train Accuracy = 84.72%, Test Accuracy = 80.02%, Duration: 237.514s.\n"
     ]
    },
    {
     "name": "stderr",
     "output_type": "stream",
     "text": [
      "Epoch 29/150: 100%|██████████| 782/782 [03:47<00:00,  3.44it/s, accuracy=85, loss=0.624]  \n"
     ]
    },
    {
     "name": "stdout",
     "output_type": "stream",
     "text": [
      "Epoch 29: Train Accuracy = 85.04%, Test Accuracy = 83.44%, Duration: 240.960s.\n"
     ]
    },
    {
     "name": "stderr",
     "output_type": "stream",
     "text": [
      "Epoch 30/150: 100%|██████████| 782/782 [03:45<00:00,  3.46it/s, accuracy=85.4, loss=0.787]\n"
     ]
    },
    {
     "name": "stdout",
     "output_type": "stream",
     "text": [
      "Epoch 30: Train Accuracy = 85.36%, Test Accuracy = 79.15%, Duration: 238.361s.\n"
     ]
    },
    {
     "name": "stderr",
     "output_type": "stream",
     "text": [
      "Epoch 31/150: 100%|██████████| 782/782 [03:38<00:00,  3.57it/s, accuracy=85.7, loss=1.08] \n"
     ]
    },
    {
     "name": "stdout",
     "output_type": "stream",
     "text": [
      "Epoch 31: Train Accuracy = 85.69%, Test Accuracy = 83.63%, Duration: 232.094s.\n"
     ]
    },
    {
     "name": "stderr",
     "output_type": "stream",
     "text": [
      "Epoch 32/150: 100%|██████████| 782/782 [03:43<00:00,  3.50it/s, accuracy=86, loss=1.06]   \n"
     ]
    },
    {
     "name": "stdout",
     "output_type": "stream",
     "text": [
      "Epoch 32: Train Accuracy = 85.99%, Test Accuracy = 80.87%, Duration: 237.241s.\n"
     ]
    },
    {
     "name": "stderr",
     "output_type": "stream",
     "text": [
      "Epoch 33/150: 100%|██████████| 782/782 [03:45<00:00,  3.47it/s, accuracy=86.2, loss=1.15] \n"
     ]
    },
    {
     "name": "stdout",
     "output_type": "stream",
     "text": [
      "Epoch 33: Train Accuracy = 86.21%, Test Accuracy = 84.49%, Duration: 238.583s.\n"
     ]
    },
    {
     "name": "stderr",
     "output_type": "stream",
     "text": [
      "Epoch 34/150: 100%|██████████| 782/782 [03:42<00:00,  3.52it/s, accuracy=86.3, loss=0.836]\n"
     ]
    },
    {
     "name": "stdout",
     "output_type": "stream",
     "text": [
      "Epoch 34: Train Accuracy = 86.27%, Test Accuracy = 84.58%, Duration: 236.090s.\n"
     ]
    },
    {
     "name": "stderr",
     "output_type": "stream",
     "text": [
      "Epoch 35/150: 100%|██████████| 782/782 [03:42<00:00,  3.52it/s, accuracy=86.2, loss=0.796]\n"
     ]
    },
    {
     "name": "stdout",
     "output_type": "stream",
     "text": [
      "Epoch 35: Train Accuracy = 86.20%, Test Accuracy = 84.02%, Duration: 236.000s.\n"
     ]
    },
    {
     "name": "stderr",
     "output_type": "stream",
     "text": [
      "Epoch 36/150: 100%|██████████| 782/782 [03:43<00:00,  3.50it/s, accuracy=86.4, loss=0.847]\n"
     ]
    },
    {
     "name": "stdout",
     "output_type": "stream",
     "text": [
      "Epoch 36: Train Accuracy = 86.38%, Test Accuracy = 82.01%, Duration: 236.731s.\n"
     ]
    },
    {
     "name": "stderr",
     "output_type": "stream",
     "text": [
      "Epoch 37/150: 100%|██████████| 782/782 [03:39<00:00,  3.57it/s, accuracy=87, loss=0.838]  \n"
     ]
    },
    {
     "name": "stdout",
     "output_type": "stream",
     "text": [
      "Epoch 37: Train Accuracy = 86.97%, Test Accuracy = 84.58%, Duration: 232.561s.\n"
     ]
    },
    {
     "name": "stderr",
     "output_type": "stream",
     "text": [
      "Epoch 38/150: 100%|██████████| 782/782 [03:37<00:00,  3.59it/s, accuracy=86.9, loss=0.841]\n"
     ]
    },
    {
     "name": "stdout",
     "output_type": "stream",
     "text": [
      "Epoch 38: Train Accuracy = 86.92%, Test Accuracy = 84.16%, Duration: 231.120s.\n"
     ]
    },
    {
     "name": "stderr",
     "output_type": "stream",
     "text": [
      "Epoch 39/150: 100%|██████████| 782/782 [03:41<00:00,  3.53it/s, accuracy=86.9, loss=0.757]\n"
     ]
    },
    {
     "name": "stdout",
     "output_type": "stream",
     "text": [
      "Epoch 39: Train Accuracy = 86.86%, Test Accuracy = 82.13%, Duration: 235.014s.\n"
     ]
    },
    {
     "name": "stderr",
     "output_type": "stream",
     "text": [
      "Epoch 40/150: 100%|██████████| 782/782 [03:40<00:00,  3.55it/s, accuracy=87.2, loss=0.795]\n"
     ]
    },
    {
     "name": "stdout",
     "output_type": "stream",
     "text": [
      "Epoch 40: Train Accuracy = 87.16%, Test Accuracy = 84.86%, Duration: 234.076s.\n"
     ]
    },
    {
     "name": "stderr",
     "output_type": "stream",
     "text": [
      "Epoch 41/150: 100%|██████████| 782/782 [03:39<00:00,  3.56it/s, accuracy=87.3, loss=0.981]\n"
     ]
    },
    {
     "name": "stdout",
     "output_type": "stream",
     "text": [
      "Epoch 41: Train Accuracy = 87.33%, Test Accuracy = 81.81%, Duration: 233.235s.\n"
     ]
    },
    {
     "name": "stderr",
     "output_type": "stream",
     "text": [
      "Epoch 42/150: 100%|██████████| 782/782 [03:37<00:00,  3.60it/s, accuracy=87.5, loss=1.13] \n"
     ]
    },
    {
     "name": "stdout",
     "output_type": "stream",
     "text": [
      "Epoch 42: Train Accuracy = 87.49%, Test Accuracy = 79.31%, Duration: 230.976s.\n"
     ]
    },
    {
     "name": "stderr",
     "output_type": "stream",
     "text": [
      "Epoch 43/150: 100%|██████████| 782/782 [03:39<00:00,  3.56it/s, accuracy=87.5, loss=0.711]\n"
     ]
    },
    {
     "name": "stdout",
     "output_type": "stream",
     "text": [
      "Epoch 43: Train Accuracy = 87.46%, Test Accuracy = 83.07%, Duration: 233.238s.\n"
     ]
    },
    {
     "name": "stderr",
     "output_type": "stream",
     "text": [
      "Epoch 44/150: 100%|██████████| 782/782 [03:39<00:00,  3.57it/s, accuracy=87.7, loss=0.871]\n"
     ]
    },
    {
     "name": "stdout",
     "output_type": "stream",
     "text": [
      "Epoch 44: Train Accuracy = 87.72%, Test Accuracy = 84.23%, Duration: 232.419s.\n"
     ]
    },
    {
     "name": "stderr",
     "output_type": "stream",
     "text": [
      "Epoch 45/150: 100%|██████████| 782/782 [03:38<00:00,  3.58it/s, accuracy=87.6, loss=0.697]\n"
     ]
    },
    {
     "name": "stdout",
     "output_type": "stream",
     "text": [
      "Epoch 45: Train Accuracy = 87.55%, Test Accuracy = 85.11%, Duration: 232.193s.\n"
     ]
    },
    {
     "name": "stderr",
     "output_type": "stream",
     "text": [
      "Epoch 46/150: 100%|██████████| 782/782 [03:37<00:00,  3.59it/s, accuracy=88.1, loss=0.662]\n"
     ]
    },
    {
     "name": "stdout",
     "output_type": "stream",
     "text": [
      "Epoch 46: Train Accuracy = 88.07%, Test Accuracy = 83.64%, Duration: 230.850s.\n"
     ]
    },
    {
     "name": "stderr",
     "output_type": "stream",
     "text": [
      "Epoch 47/150: 100%|██████████| 782/782 [03:36<00:00,  3.62it/s, accuracy=87.9, loss=1.12] \n"
     ]
    },
    {
     "name": "stdout",
     "output_type": "stream",
     "text": [
      "Epoch 47: Train Accuracy = 87.95%, Test Accuracy = 84.79%, Duration: 229.438s.\n"
     ]
    },
    {
     "name": "stderr",
     "output_type": "stream",
     "text": [
      "Epoch 48/150: 100%|██████████| 782/782 [03:38<00:00,  3.58it/s, accuracy=88, loss=0.721]  \n"
     ]
    },
    {
     "name": "stdout",
     "output_type": "stream",
     "text": [
      "Epoch 48: Train Accuracy = 88.01%, Test Accuracy = 83.14%, Duration: 231.728s.\n"
     ]
    },
    {
     "name": "stderr",
     "output_type": "stream",
     "text": [
      "Epoch 49/150: 100%|██████████| 782/782 [03:38<00:00,  3.58it/s, accuracy=88.1, loss=0.802]\n"
     ]
    },
    {
     "name": "stdout",
     "output_type": "stream",
     "text": [
      "Epoch 49: Train Accuracy = 88.14%, Test Accuracy = 87.14%, Duration: 232.001s.\n"
     ]
    },
    {
     "name": "stderr",
     "output_type": "stream",
     "text": [
      "Epoch 50/150: 100%|██████████| 782/782 [03:37<00:00,  3.59it/s, accuracy=88.3, loss=1.05] \n"
     ]
    },
    {
     "name": "stdout",
     "output_type": "stream",
     "text": [
      "Epoch 50: Train Accuracy = 88.31%, Test Accuracy = 84.97%, Duration: 230.908s.\n"
     ]
    },
    {
     "name": "stderr",
     "output_type": "stream",
     "text": [
      "Epoch 51/150: 100%|██████████| 782/782 [03:35<00:00,  3.63it/s, accuracy=88.6, loss=0.768]\n"
     ]
    },
    {
     "name": "stdout",
     "output_type": "stream",
     "text": [
      "Epoch 51: Train Accuracy = 88.62%, Test Accuracy = 85.45%, Duration: 228.912s.\n"
     ]
    },
    {
     "name": "stderr",
     "output_type": "stream",
     "text": [
      "Epoch 52/150: 100%|██████████| 782/782 [03:36<00:00,  3.61it/s, accuracy=88.4, loss=1.08] \n"
     ]
    },
    {
     "name": "stdout",
     "output_type": "stream",
     "text": [
      "Epoch 52: Train Accuracy = 88.37%, Test Accuracy = 85.64%, Duration: 230.176s.\n"
     ]
    },
    {
     "name": "stderr",
     "output_type": "stream",
     "text": [
      "Epoch 53/150: 100%|██████████| 782/782 [03:35<00:00,  3.63it/s, accuracy=89, loss=0.933]  \n"
     ]
    },
    {
     "name": "stdout",
     "output_type": "stream",
     "text": [
      "Epoch 53: Train Accuracy = 89.00%, Test Accuracy = 83.53%, Duration: 229.486s.\n"
     ]
    },
    {
     "name": "stderr",
     "output_type": "stream",
     "text": [
      "Epoch 54/150: 100%|██████████| 782/782 [03:38<00:00,  3.58it/s, accuracy=89, loss=0.716]  \n"
     ]
    },
    {
     "name": "stdout",
     "output_type": "stream",
     "text": [
      "Epoch 54: Train Accuracy = 88.98%, Test Accuracy = 84.54%, Duration: 231.865s.\n"
     ]
    },
    {
     "name": "stderr",
     "output_type": "stream",
     "text": [
      "Epoch 55/150: 100%|██████████| 782/782 [03:41<00:00,  3.54it/s, accuracy=89.1, loss=0.583]\n"
     ]
    },
    {
     "name": "stdout",
     "output_type": "stream",
     "text": [
      "Epoch 55: Train Accuracy = 89.08%, Test Accuracy = 84.82%, Duration: 234.328s.\n"
     ]
    },
    {
     "name": "stderr",
     "output_type": "stream",
     "text": [
      "Epoch 56/150: 100%|██████████| 782/782 [03:40<00:00,  3.55it/s, accuracy=89, loss=0.633]  \n"
     ]
    },
    {
     "name": "stdout",
     "output_type": "stream",
     "text": [
      "Epoch 56: Train Accuracy = 89.02%, Test Accuracy = 81.55%, Duration: 233.595s.\n"
     ]
    },
    {
     "name": "stderr",
     "output_type": "stream",
     "text": [
      "Epoch 57/150: 100%|██████████| 782/782 [03:39<00:00,  3.57it/s, accuracy=89.1, loss=0.756]\n"
     ]
    },
    {
     "name": "stdout",
     "output_type": "stream",
     "text": [
      "Epoch 57: Train Accuracy = 89.08%, Test Accuracy = 82.44%, Duration: 232.796s.\n"
     ]
    },
    {
     "name": "stderr",
     "output_type": "stream",
     "text": [
      "Epoch 58/150: 100%|██████████| 782/782 [03:41<00:00,  3.53it/s, accuracy=89.3, loss=0.791]\n"
     ]
    },
    {
     "name": "stdout",
     "output_type": "stream",
     "text": [
      "Epoch 58: Train Accuracy = 89.32%, Test Accuracy = 83.61%, Duration: 234.801s.\n"
     ]
    },
    {
     "name": "stderr",
     "output_type": "stream",
     "text": [
      "Epoch 59/150: 100%|██████████| 782/782 [03:38<00:00,  3.58it/s, accuracy=89.4, loss=0.573]\n"
     ]
    },
    {
     "name": "stdout",
     "output_type": "stream",
     "text": [
      "Epoch 59: Train Accuracy = 89.36%, Test Accuracy = 87.39%, Duration: 231.076s.\n"
     ]
    },
    {
     "name": "stderr",
     "output_type": "stream",
     "text": [
      "Epoch 60/150: 100%|██████████| 782/782 [03:38<00:00,  3.57it/s, accuracy=89.4, loss=0.848]\n"
     ]
    },
    {
     "name": "stdout",
     "output_type": "stream",
     "text": [
      "Epoch 60: Train Accuracy = 89.44%, Test Accuracy = 84.80%, Duration: 232.441s.\n"
     ]
    },
    {
     "name": "stderr",
     "output_type": "stream",
     "text": [
      "Epoch 61/150: 100%|██████████| 782/782 [03:39<00:00,  3.57it/s, accuracy=89.4, loss=0.918]\n"
     ]
    },
    {
     "name": "stdout",
     "output_type": "stream",
     "text": [
      "Epoch 61: Train Accuracy = 89.37%, Test Accuracy = 85.43%, Duration: 232.707s.\n"
     ]
    },
    {
     "name": "stderr",
     "output_type": "stream",
     "text": [
      "Epoch 62/150: 100%|██████████| 782/782 [03:38<00:00,  3.58it/s, accuracy=89.7, loss=0.871]\n"
     ]
    },
    {
     "name": "stdout",
     "output_type": "stream",
     "text": [
      "Epoch 62: Train Accuracy = 89.72%, Test Accuracy = 85.33%, Duration: 232.047s.\n"
     ]
    },
    {
     "name": "stderr",
     "output_type": "stream",
     "text": [
      "Epoch 63/150: 100%|██████████| 782/782 [03:40<00:00,  3.54it/s, accuracy=90, loss=0.954]  \n"
     ]
    },
    {
     "name": "stdout",
     "output_type": "stream",
     "text": [
      "Epoch 63: Train Accuracy = 89.95%, Test Accuracy = 87.70%, Duration: 234.104s.\n"
     ]
    },
    {
     "name": "stderr",
     "output_type": "stream",
     "text": [
      "Epoch 64/150: 100%|██████████| 782/782 [03:41<00:00,  3.54it/s, accuracy=90, loss=0.746]  \n"
     ]
    },
    {
     "name": "stdout",
     "output_type": "stream",
     "text": [
      "Epoch 64: Train Accuracy = 89.98%, Test Accuracy = 85.65%, Duration: 234.211s.\n"
     ]
    },
    {
     "name": "stderr",
     "output_type": "stream",
     "text": [
      "Epoch 65/150: 100%|██████████| 782/782 [03:37<00:00,  3.60it/s, accuracy=90, loss=0.873]  \n"
     ]
    },
    {
     "name": "stdout",
     "output_type": "stream",
     "text": [
      "Epoch 65: Train Accuracy = 89.97%, Test Accuracy = 87.16%, Duration: 230.739s.\n"
     ]
    },
    {
     "name": "stderr",
     "output_type": "stream",
     "text": [
      "Epoch 66/150: 100%|██████████| 782/782 [03:39<00:00,  3.56it/s, accuracy=90.2, loss=1.01] \n"
     ]
    },
    {
     "name": "stdout",
     "output_type": "stream",
     "text": [
      "Epoch 66: Train Accuracy = 90.21%, Test Accuracy = 85.10%, Duration: 233.285s.\n"
     ]
    },
    {
     "name": "stderr",
     "output_type": "stream",
     "text": [
      "Epoch 67/150: 100%|██████████| 782/782 [03:40<00:00,  3.55it/s, accuracy=90.4, loss=0.754]\n"
     ]
    },
    {
     "name": "stdout",
     "output_type": "stream",
     "text": [
      "Epoch 67: Train Accuracy = 90.42%, Test Accuracy = 86.41%, Duration: 233.944s.\n"
     ]
    },
    {
     "name": "stderr",
     "output_type": "stream",
     "text": [
      "Epoch 68/150: 100%|██████████| 782/782 [03:41<00:00,  3.54it/s, accuracy=90.5, loss=0.823]\n"
     ]
    },
    {
     "name": "stdout",
     "output_type": "stream",
     "text": [
      "Epoch 68: Train Accuracy = 90.53%, Test Accuracy = 83.35%, Duration: 234.318s.\n"
     ]
    },
    {
     "name": "stderr",
     "output_type": "stream",
     "text": [
      "Epoch 69/150: 100%|██████████| 782/782 [03:40<00:00,  3.55it/s, accuracy=90.5, loss=0.688]\n"
     ]
    },
    {
     "name": "stdout",
     "output_type": "stream",
     "text": [
      "Epoch 69: Train Accuracy = 90.46%, Test Accuracy = 85.67%, Duration: 233.846s.\n"
     ]
    },
    {
     "name": "stderr",
     "output_type": "stream",
     "text": [
      "Epoch 70/150: 100%|██████████| 782/782 [03:42<00:00,  3.52it/s, accuracy=90.8, loss=0.724]\n"
     ]
    },
    {
     "name": "stdout",
     "output_type": "stream",
     "text": [
      "Epoch 70: Train Accuracy = 90.80%, Test Accuracy = 88.45%, Duration: 235.167s.\n"
     ]
    },
    {
     "name": "stderr",
     "output_type": "stream",
     "text": [
      "Epoch 71/150: 100%|██████████| 782/782 [03:44<00:00,  3.48it/s, accuracy=90.6, loss=1.04] \n"
     ]
    },
    {
     "name": "stdout",
     "output_type": "stream",
     "text": [
      "Epoch 71: Train Accuracy = 90.60%, Test Accuracy = 83.97%, Duration: 238.511s.\n"
     ]
    },
    {
     "name": "stderr",
     "output_type": "stream",
     "text": [
      "Epoch 72/150: 100%|██████████| 782/782 [03:45<00:00,  3.46it/s, accuracy=90.8, loss=0.81] \n"
     ]
    },
    {
     "name": "stdout",
     "output_type": "stream",
     "text": [
      "Epoch 72: Train Accuracy = 90.76%, Test Accuracy = 84.33%, Duration: 240.012s.\n"
     ]
    },
    {
     "name": "stderr",
     "output_type": "stream",
     "text": [
      "Epoch 73/150: 100%|██████████| 782/782 [03:42<00:00,  3.52it/s, accuracy=91.2, loss=0.554]\n"
     ]
    },
    {
     "name": "stdout",
     "output_type": "stream",
     "text": [
      "Epoch 73: Train Accuracy = 91.21%, Test Accuracy = 87.94%, Duration: 235.583s.\n"
     ]
    },
    {
     "name": "stderr",
     "output_type": "stream",
     "text": [
      "Epoch 74/150: 100%|██████████| 782/782 [03:43<00:00,  3.50it/s, accuracy=90.9, loss=0.894]\n"
     ]
    },
    {
     "name": "stdout",
     "output_type": "stream",
     "text": [
      "Epoch 74: Train Accuracy = 90.93%, Test Accuracy = 88.15%, Duration: 236.984s.\n"
     ]
    },
    {
     "name": "stderr",
     "output_type": "stream",
     "text": [
      "Epoch 75/150: 100%|██████████| 782/782 [03:44<00:00,  3.48it/s, accuracy=91.2, loss=0.877]\n"
     ]
    },
    {
     "name": "stdout",
     "output_type": "stream",
     "text": [
      "Epoch 75: Train Accuracy = 91.22%, Test Accuracy = 87.03%, Duration: 238.693s.\n"
     ]
    },
    {
     "name": "stderr",
     "output_type": "stream",
     "text": [
      "Epoch 76/150: 100%|██████████| 782/782 [03:45<00:00,  3.47it/s, accuracy=91.2, loss=0.81] \n"
     ]
    },
    {
     "name": "stdout",
     "output_type": "stream",
     "text": [
      "Epoch 76: Train Accuracy = 91.20%, Test Accuracy = 88.49%, Duration: 239.239s.\n"
     ]
    },
    {
     "name": "stderr",
     "output_type": "stream",
     "text": [
      "Epoch 77/150: 100%|██████████| 782/782 [03:45<00:00,  3.46it/s, accuracy=91.4, loss=0.688]\n"
     ]
    },
    {
     "name": "stdout",
     "output_type": "stream",
     "text": [
      "Epoch 77: Train Accuracy = 91.44%, Test Accuracy = 86.67%, Duration: 239.691s.\n"
     ]
    },
    {
     "name": "stderr",
     "output_type": "stream",
     "text": [
      "Epoch 78/150: 100%|██████████| 782/782 [03:47<00:00,  3.43it/s, accuracy=91.8, loss=0.933]\n"
     ]
    },
    {
     "name": "stdout",
     "output_type": "stream",
     "text": [
      "Epoch 78: Train Accuracy = 91.81%, Test Accuracy = 87.22%, Duration: 242.110s.\n"
     ]
    },
    {
     "name": "stderr",
     "output_type": "stream",
     "text": [
      "Epoch 79/150: 100%|██████████| 782/782 [03:50<00:00,  3.40it/s, accuracy=91.9, loss=0.827]\n"
     ]
    },
    {
     "name": "stdout",
     "output_type": "stream",
     "text": [
      "Epoch 79: Train Accuracy = 91.86%, Test Accuracy = 87.79%, Duration: 244.472s.\n"
     ]
    },
    {
     "name": "stderr",
     "output_type": "stream",
     "text": [
      "Epoch 80/150: 100%|██████████| 782/782 [03:49<00:00,  3.40it/s, accuracy=92, loss=0.772]  \n"
     ]
    },
    {
     "name": "stdout",
     "output_type": "stream",
     "text": [
      "Epoch 80: Train Accuracy = 91.98%, Test Accuracy = 86.32%, Duration: 244.347s.\n"
     ]
    },
    {
     "name": "stderr",
     "output_type": "stream",
     "text": [
      "Epoch 81/150: 100%|██████████| 782/782 [03:51<00:00,  3.38it/s, accuracy=92, loss=0.64]   \n"
     ]
    },
    {
     "name": "stdout",
     "output_type": "stream",
     "text": [
      "Epoch 81: Train Accuracy = 91.95%, Test Accuracy = 88.15%, Duration: 245.171s.\n"
     ]
    },
    {
     "name": "stderr",
     "output_type": "stream",
     "text": [
      "Epoch 82/150: 100%|██████████| 782/782 [03:52<00:00,  3.36it/s, accuracy=92.3, loss=0.611]\n"
     ]
    },
    {
     "name": "stdout",
     "output_type": "stream",
     "text": [
      "Epoch 82: Train Accuracy = 92.31%, Test Accuracy = 87.53%, Duration: 246.412s.\n"
     ]
    },
    {
     "name": "stderr",
     "output_type": "stream",
     "text": [
      "Epoch 83/150: 100%|██████████| 782/782 [03:51<00:00,  3.38it/s, accuracy=92, loss=0.715]  \n"
     ]
    },
    {
     "name": "stdout",
     "output_type": "stream",
     "text": [
      "Epoch 83: Train Accuracy = 92.05%, Test Accuracy = 88.36%, Duration: 244.972s.\n"
     ]
    },
    {
     "name": "stderr",
     "output_type": "stream",
     "text": [
      "Epoch 84/150: 100%|██████████| 782/782 [03:55<00:00,  3.33it/s, accuracy=92.5, loss=0.623]\n"
     ]
    },
    {
     "name": "stdout",
     "output_type": "stream",
     "text": [
      "Epoch 84: Train Accuracy = 92.49%, Test Accuracy = 86.13%, Duration: 250.103s.\n"
     ]
    },
    {
     "name": "stderr",
     "output_type": "stream",
     "text": [
      "Epoch 85/150: 100%|██████████| 782/782 [03:18<00:00,  3.94it/s, accuracy=92.7, loss=0.722]\n"
     ]
    },
    {
     "name": "stdout",
     "output_type": "stream",
     "text": [
      "Epoch 85: Train Accuracy = 92.65%, Test Accuracy = 87.83%, Duration: 211.364s.\n"
     ]
    },
    {
     "name": "stderr",
     "output_type": "stream",
     "text": [
      "Epoch 86/150: 100%|██████████| 782/782 [03:02<00:00,  4.28it/s, accuracy=92.6, loss=0.727]\n"
     ]
    },
    {
     "name": "stdout",
     "output_type": "stream",
     "text": [
      "Epoch 86: Train Accuracy = 92.63%, Test Accuracy = 88.65%, Duration: 194.319s.\n"
     ]
    },
    {
     "name": "stderr",
     "output_type": "stream",
     "text": [
      "Epoch 87/150: 100%|██████████| 782/782 [03:10<00:00,  4.12it/s, accuracy=93, loss=0.719]  \n"
     ]
    },
    {
     "name": "stdout",
     "output_type": "stream",
     "text": [
      "Epoch 87: Train Accuracy = 92.98%, Test Accuracy = 89.22%, Duration: 201.197s.\n"
     ]
    },
    {
     "name": "stderr",
     "output_type": "stream",
     "text": [
      "Epoch 88/150: 100%|██████████| 782/782 [03:10<00:00,  4.11it/s, accuracy=93.2, loss=0.608]\n"
     ]
    },
    {
     "name": "stdout",
     "output_type": "stream",
     "text": [
      "Epoch 88: Train Accuracy = 93.16%, Test Accuracy = 89.52%, Duration: 201.726s.\n"
     ]
    },
    {
     "name": "stderr",
     "output_type": "stream",
     "text": [
      "Epoch 89/150: 100%|██████████| 782/782 [03:08<00:00,  4.16it/s, accuracy=93.2, loss=0.625]\n"
     ]
    },
    {
     "name": "stdout",
     "output_type": "stream",
     "text": [
      "Epoch 89: Train Accuracy = 93.15%, Test Accuracy = 86.90%, Duration: 198.959s.\n"
     ]
    },
    {
     "name": "stderr",
     "output_type": "stream",
     "text": [
      "Epoch 90/150: 100%|██████████| 782/782 [03:09<00:00,  4.13it/s, accuracy=93.3, loss=0.703]\n"
     ]
    },
    {
     "name": "stdout",
     "output_type": "stream",
     "text": [
      "Epoch 90: Train Accuracy = 93.34%, Test Accuracy = 88.89%, Duration: 201.580s.\n"
     ]
    },
    {
     "name": "stderr",
     "output_type": "stream",
     "text": [
      "Epoch 91/150: 100%|██████████| 782/782 [03:10<00:00,  4.11it/s, accuracy=93.5, loss=0.746]\n"
     ]
    },
    {
     "name": "stdout",
     "output_type": "stream",
     "text": [
      "Epoch 91: Train Accuracy = 93.48%, Test Accuracy = 89.38%, Duration: 202.433s.\n"
     ]
    },
    {
     "name": "stderr",
     "output_type": "stream",
     "text": [
      "Epoch 92/150: 100%|██████████| 782/782 [03:12<00:00,  4.06it/s, accuracy=93.4, loss=0.771]\n"
     ]
    },
    {
     "name": "stdout",
     "output_type": "stream",
     "text": [
      "Epoch 92: Train Accuracy = 93.44%, Test Accuracy = 88.91%, Duration: 204.636s.\n"
     ]
    },
    {
     "name": "stderr",
     "output_type": "stream",
     "text": [
      "Epoch 93/150: 100%|██████████| 782/782 [03:12<00:00,  4.06it/s, accuracy=93.9, loss=0.708]\n"
     ]
    },
    {
     "name": "stdout",
     "output_type": "stream",
     "text": [
      "Epoch 93: Train Accuracy = 93.87%, Test Accuracy = 89.74%, Duration: 204.980s.\n"
     ]
    },
    {
     "name": "stderr",
     "output_type": "stream",
     "text": [
      "Epoch 94/150: 100%|██████████| 782/782 [03:12<00:00,  4.06it/s, accuracy=93.6, loss=0.835]\n"
     ]
    },
    {
     "name": "stdout",
     "output_type": "stream",
     "text": [
      "Epoch 94: Train Accuracy = 93.62%, Test Accuracy = 89.29%, Duration: 204.837s.\n"
     ]
    },
    {
     "name": "stderr",
     "output_type": "stream",
     "text": [
      "Epoch 95/150: 100%|██████████| 782/782 [03:11<00:00,  4.07it/s, accuracy=94, loss=0.774]  \n"
     ]
    },
    {
     "name": "stdout",
     "output_type": "stream",
     "text": [
      "Epoch 95: Train Accuracy = 94.00%, Test Accuracy = 89.89%, Duration: 204.275s.\n"
     ]
    },
    {
     "name": "stderr",
     "output_type": "stream",
     "text": [
      "Epoch 96/150: 100%|██████████| 782/782 [03:12<00:00,  4.07it/s, accuracy=93.9, loss=0.643]\n"
     ]
    },
    {
     "name": "stdout",
     "output_type": "stream",
     "text": [
      "Epoch 96: Train Accuracy = 93.93%, Test Accuracy = 89.40%, Duration: 204.448s.\n"
     ]
    },
    {
     "name": "stderr",
     "output_type": "stream",
     "text": [
      "Epoch 97/150: 100%|██████████| 782/782 [03:16<00:00,  3.97it/s, accuracy=94.2, loss=0.628]\n"
     ]
    },
    {
     "name": "stdout",
     "output_type": "stream",
     "text": [
      "Epoch 97: Train Accuracy = 94.22%, Test Accuracy = 90.19%, Duration: 208.108s.\n"
     ]
    },
    {
     "name": "stderr",
     "output_type": "stream",
     "text": [
      "Epoch 98/150: 100%|██████████| 782/782 [03:14<00:00,  4.01it/s, accuracy=94.3, loss=0.582]\n"
     ]
    },
    {
     "name": "stdout",
     "output_type": "stream",
     "text": [
      "Epoch 98: Train Accuracy = 94.30%, Test Accuracy = 89.40%, Duration: 206.759s.\n"
     ]
    },
    {
     "name": "stderr",
     "output_type": "stream",
     "text": [
      "Epoch 99/150: 100%|██████████| 782/782 [03:14<00:00,  4.01it/s, accuracy=94.5, loss=0.559]\n"
     ]
    },
    {
     "name": "stdout",
     "output_type": "stream",
     "text": [
      "Epoch 99: Train Accuracy = 94.55%, Test Accuracy = 89.88%, Duration: 206.864s.\n"
     ]
    },
    {
     "name": "stderr",
     "output_type": "stream",
     "text": [
      "Epoch 100/150: 100%|██████████| 782/782 [03:19<00:00,  3.92it/s, accuracy=94.9, loss=0.659]\n"
     ]
    },
    {
     "name": "stdout",
     "output_type": "stream",
     "text": [
      "Epoch 100: Train Accuracy = 94.88%, Test Accuracy = 90.88%, Duration: 212.071s.\n"
     ]
    },
    {
     "name": "stderr",
     "output_type": "stream",
     "text": [
      "Epoch 101/150: 100%|██████████| 782/782 [03:17<00:00,  3.95it/s, accuracy=94.8, loss=0.574]\n"
     ]
    },
    {
     "name": "stdout",
     "output_type": "stream",
     "text": [
      "Epoch 101: Train Accuracy = 94.84%, Test Accuracy = 89.90%, Duration: 210.657s.\n"
     ]
    },
    {
     "name": "stderr",
     "output_type": "stream",
     "text": [
      "Epoch 102/150: 100%|██████████| 782/782 [03:19<00:00,  3.92it/s, accuracy=95.1, loss=0.64] \n"
     ]
    },
    {
     "name": "stdout",
     "output_type": "stream",
     "text": [
      "Epoch 102: Train Accuracy = 95.14%, Test Accuracy = 89.68%, Duration: 212.240s.\n"
     ]
    },
    {
     "name": "stderr",
     "output_type": "stream",
     "text": [
      "Epoch 103/150: 100%|██████████| 782/782 [03:19<00:00,  3.91it/s, accuracy=95.1, loss=1.05] \n"
     ]
    },
    {
     "name": "stdout",
     "output_type": "stream",
     "text": [
      "Epoch 103: Train Accuracy = 95.07%, Test Accuracy = 89.78%, Duration: 212.715s.\n"
     ]
    },
    {
     "name": "stderr",
     "output_type": "stream",
     "text": [
      "Epoch 104/150: 100%|██████████| 782/782 [03:19<00:00,  3.91it/s, accuracy=95.1, loss=0.574]\n"
     ]
    },
    {
     "name": "stdout",
     "output_type": "stream",
     "text": [
      "Epoch 104: Train Accuracy = 95.13%, Test Accuracy = 90.35%, Duration: 212.805s.\n"
     ]
    },
    {
     "name": "stderr",
     "output_type": "stream",
     "text": [
      "Epoch 105/150: 100%|██████████| 782/782 [03:19<00:00,  3.92it/s, accuracy=95.5, loss=0.574]\n"
     ]
    },
    {
     "name": "stdout",
     "output_type": "stream",
     "text": [
      "Epoch 105: Train Accuracy = 95.48%, Test Accuracy = 90.46%, Duration: 212.361s.\n"
     ]
    },
    {
     "name": "stderr",
     "output_type": "stream",
     "text": [
      "Epoch 106/150: 100%|██████████| 782/782 [03:24<00:00,  3.82it/s, accuracy=95.6, loss=0.779]\n"
     ]
    },
    {
     "name": "stdout",
     "output_type": "stream",
     "text": [
      "Epoch 106: Train Accuracy = 95.58%, Test Accuracy = 89.92%, Duration: 218.130s.\n"
     ]
    },
    {
     "name": "stderr",
     "output_type": "stream",
     "text": [
      "Epoch 107/150: 100%|██████████| 782/782 [03:19<00:00,  3.92it/s, accuracy=95.6, loss=0.682]\n"
     ]
    },
    {
     "name": "stdout",
     "output_type": "stream",
     "text": [
      "Epoch 107: Train Accuracy = 95.57%, Test Accuracy = 89.59%, Duration: 213.312s.\n"
     ]
    },
    {
     "name": "stderr",
     "output_type": "stream",
     "text": [
      "Epoch 108/150: 100%|██████████| 782/782 [03:24<00:00,  3.82it/s, accuracy=95.8, loss=0.668]\n"
     ]
    },
    {
     "name": "stdout",
     "output_type": "stream",
     "text": [
      "Epoch 108: Train Accuracy = 95.81%, Test Accuracy = 90.22%, Duration: 217.846s.\n"
     ]
    },
    {
     "name": "stderr",
     "output_type": "stream",
     "text": [
      "Epoch 109/150: 100%|██████████| 782/782 [03:22<00:00,  3.86it/s, accuracy=96, loss=0.738]  \n"
     ]
    },
    {
     "name": "stdout",
     "output_type": "stream",
     "text": [
      "Epoch 109: Train Accuracy = 96.01%, Test Accuracy = 90.24%, Duration: 215.507s.\n"
     ]
    },
    {
     "name": "stderr",
     "output_type": "stream",
     "text": [
      "Epoch 110/150: 100%|██████████| 782/782 [03:25<00:00,  3.81it/s, accuracy=96.2, loss=0.61] \n"
     ]
    },
    {
     "name": "stdout",
     "output_type": "stream",
     "text": [
      "Epoch 110: Train Accuracy = 96.21%, Test Accuracy = 90.44%, Duration: 218.265s.\n"
     ]
    },
    {
     "name": "stderr",
     "output_type": "stream",
     "text": [
      "Epoch 111/150: 100%|██████████| 782/782 [03:26<00:00,  3.78it/s, accuracy=96.2, loss=0.628]\n"
     ]
    },
    {
     "name": "stdout",
     "output_type": "stream",
     "text": [
      "Epoch 111: Train Accuracy = 96.16%, Test Accuracy = 90.54%, Duration: 220.185s.\n"
     ]
    },
    {
     "name": "stderr",
     "output_type": "stream",
     "text": [
      "Epoch 112/150: 100%|██████████| 782/782 [03:29<00:00,  3.74it/s, accuracy=96.5, loss=0.73] \n"
     ]
    },
    {
     "name": "stdout",
     "output_type": "stream",
     "text": [
      "Epoch 112: Train Accuracy = 96.47%, Test Accuracy = 90.61%, Duration: 222.592s.\n"
     ]
    },
    {
     "name": "stderr",
     "output_type": "stream",
     "text": [
      "Epoch 113/150: 100%|██████████| 782/782 [03:29<00:00,  3.74it/s, accuracy=96.6, loss=0.587]\n"
     ]
    },
    {
     "name": "stdout",
     "output_type": "stream",
     "text": [
      "Epoch 113: Train Accuracy = 96.63%, Test Accuracy = 91.06%, Duration: 222.652s.\n"
     ]
    },
    {
     "name": "stderr",
     "output_type": "stream",
     "text": [
      "Epoch 114/150: 100%|██████████| 782/782 [03:30<00:00,  3.72it/s, accuracy=96.6, loss=0.623]\n"
     ]
    },
    {
     "name": "stdout",
     "output_type": "stream",
     "text": [
      "Epoch 114: Train Accuracy = 96.61%, Test Accuracy = 90.61%, Duration: 224.351s.\n"
     ]
    },
    {
     "name": "stderr",
     "output_type": "stream",
     "text": [
      "Epoch 115/150: 100%|██████████| 782/782 [03:31<00:00,  3.70it/s, accuracy=96.8, loss=0.662]\n"
     ]
    },
    {
     "name": "stdout",
     "output_type": "stream",
     "text": [
      "Epoch 115: Train Accuracy = 96.78%, Test Accuracy = 91.19%, Duration: 225.117s.\n"
     ]
    },
    {
     "name": "stderr",
     "output_type": "stream",
     "text": [
      "Epoch 116/150: 100%|██████████| 782/782 [03:30<00:00,  3.72it/s, accuracy=97, loss=0.632]  \n"
     ]
    },
    {
     "name": "stdout",
     "output_type": "stream",
     "text": [
      "Epoch 116: Train Accuracy = 97.04%, Test Accuracy = 91.35%, Duration: 223.912s.\n"
     ]
    },
    {
     "name": "stderr",
     "output_type": "stream",
     "text": [
      "Epoch 117/150: 100%|██████████| 782/782 [03:30<00:00,  3.72it/s, accuracy=97.2, loss=0.594]\n"
     ]
    },
    {
     "name": "stdout",
     "output_type": "stream",
     "text": [
      "Epoch 117: Train Accuracy = 97.21%, Test Accuracy = 91.07%, Duration: 223.963s.\n"
     ]
    },
    {
     "name": "stderr",
     "output_type": "stream",
     "text": [
      "Epoch 118/150: 100%|██████████| 782/782 [03:30<00:00,  3.72it/s, accuracy=97.3, loss=0.746]\n"
     ]
    },
    {
     "name": "stdout",
     "output_type": "stream",
     "text": [
      "Epoch 118: Train Accuracy = 97.30%, Test Accuracy = 91.02%, Duration: 223.732s.\n"
     ]
    },
    {
     "name": "stderr",
     "output_type": "stream",
     "text": [
      "Epoch 119/150: 100%|██████████| 782/782 [03:30<00:00,  3.71it/s, accuracy=97.4, loss=0.597]\n"
     ]
    },
    {
     "name": "stdout",
     "output_type": "stream",
     "text": [
      "Epoch 119: Train Accuracy = 97.40%, Test Accuracy = 91.02%, Duration: 224.342s.\n"
     ]
    },
    {
     "name": "stderr",
     "output_type": "stream",
     "text": [
      "Epoch 120/150: 100%|██████████| 782/782 [03:30<00:00,  3.72it/s, accuracy=97.6, loss=0.863]\n"
     ]
    },
    {
     "name": "stdout",
     "output_type": "stream",
     "text": [
      "Epoch 120: Train Accuracy = 97.63%, Test Accuracy = 91.16%, Duration: 223.764s.\n"
     ]
    },
    {
     "name": "stderr",
     "output_type": "stream",
     "text": [
      "Epoch 121/150: 100%|██████████| 782/782 [03:32<00:00,  3.67it/s, accuracy=97.6, loss=0.748]\n"
     ]
    },
    {
     "name": "stdout",
     "output_type": "stream",
     "text": [
      "Epoch 121: Train Accuracy = 97.59%, Test Accuracy = 91.59%, Duration: 225.289s.\n"
     ]
    },
    {
     "name": "stderr",
     "output_type": "stream",
     "text": [
      "Epoch 122/150: 100%|██████████| 782/782 [03:33<00:00,  3.67it/s, accuracy=97.8, loss=0.53] \n"
     ]
    },
    {
     "name": "stdout",
     "output_type": "stream",
     "text": [
      "Epoch 122: Train Accuracy = 97.78%, Test Accuracy = 91.08%, Duration: 227.493s.\n"
     ]
    },
    {
     "name": "stderr",
     "output_type": "stream",
     "text": [
      "Epoch 123/150: 100%|██████████| 782/782 [03:31<00:00,  3.70it/s, accuracy=97.8, loss=0.526]\n"
     ]
    },
    {
     "name": "stdout",
     "output_type": "stream",
     "text": [
      "Epoch 123: Train Accuracy = 97.84%, Test Accuracy = 91.59%, Duration: 225.165s.\n"
     ]
    },
    {
     "name": "stderr",
     "output_type": "stream",
     "text": [
      "Epoch 124/150: 100%|██████████| 782/782 [03:34<00:00,  3.64it/s, accuracy=98, loss=0.575]  \n"
     ]
    },
    {
     "name": "stdout",
     "output_type": "stream",
     "text": [
      "Epoch 124: Train Accuracy = 98.02%, Test Accuracy = 91.72%, Duration: 228.443s.\n"
     ]
    },
    {
     "name": "stderr",
     "output_type": "stream",
     "text": [
      "Epoch 125/150: 100%|██████████| 782/782 [03:35<00:00,  3.64it/s, accuracy=98.1, loss=0.564]\n"
     ]
    },
    {
     "name": "stdout",
     "output_type": "stream",
     "text": [
      "Epoch 125: Train Accuracy = 98.06%, Test Accuracy = 91.43%, Duration: 228.874s.\n"
     ]
    },
    {
     "name": "stderr",
     "output_type": "stream",
     "text": [
      "Epoch 126/150: 100%|██████████| 782/782 [03:34<00:00,  3.65it/s, accuracy=98.1, loss=0.562]\n"
     ]
    },
    {
     "name": "stdout",
     "output_type": "stream",
     "text": [
      "Epoch 126: Train Accuracy = 98.15%, Test Accuracy = 91.84%, Duration: 228.298s.\n"
     ]
    },
    {
     "name": "stderr",
     "output_type": "stream",
     "text": [
      "Epoch 127/150: 100%|██████████| 782/782 [03:35<00:00,  3.63it/s, accuracy=98.2, loss=0.518]\n"
     ]
    },
    {
     "name": "stdout",
     "output_type": "stream",
     "text": [
      "Epoch 127: Train Accuracy = 98.22%, Test Accuracy = 92.01%, Duration: 229.554s.\n"
     ]
    },
    {
     "name": "stderr",
     "output_type": "stream",
     "text": [
      "Epoch 128/150: 100%|██████████| 782/782 [03:42<00:00,  3.51it/s, accuracy=98.3, loss=0.588]\n"
     ]
    },
    {
     "name": "stdout",
     "output_type": "stream",
     "text": [
      "Epoch 128: Train Accuracy = 98.31%, Test Accuracy = 91.84%, Duration: 236.552s.\n"
     ]
    },
    {
     "name": "stderr",
     "output_type": "stream",
     "text": [
      "Epoch 129/150: 100%|██████████| 782/782 [03:39<00:00,  3.56it/s, accuracy=98.4, loss=0.53] \n"
     ]
    },
    {
     "name": "stdout",
     "output_type": "stream",
     "text": [
      "Epoch 129: Train Accuracy = 98.40%, Test Accuracy = 92.09%, Duration: 233.824s.\n"
     ]
    },
    {
     "name": "stderr",
     "output_type": "stream",
     "text": [
      "Epoch 130/150: 100%|██████████| 782/782 [03:39<00:00,  3.57it/s, accuracy=98.5, loss=0.589]\n"
     ]
    },
    {
     "name": "stdout",
     "output_type": "stream",
     "text": [
      "Epoch 130: Train Accuracy = 98.53%, Test Accuracy = 91.96%, Duration: 233.127s.\n"
     ]
    },
    {
     "name": "stderr",
     "output_type": "stream",
     "text": [
      "Epoch 131/150: 100%|██████████| 782/782 [03:37<00:00,  3.60it/s, accuracy=98.6, loss=0.615]\n"
     ]
    },
    {
     "name": "stdout",
     "output_type": "stream",
     "text": [
      "Epoch 131: Train Accuracy = 98.60%, Test Accuracy = 92.06%, Duration: 231.094s.\n"
     ]
    },
    {
     "name": "stderr",
     "output_type": "stream",
     "text": [
      "Epoch 132/150: 100%|██████████| 782/782 [03:37<00:00,  3.59it/s, accuracy=98.7, loss=0.628]\n"
     ]
    },
    {
     "name": "stdout",
     "output_type": "stream",
     "text": [
      "Epoch 132: Train Accuracy = 98.69%, Test Accuracy = 91.93%, Duration: 232.087s.\n"
     ]
    },
    {
     "name": "stderr",
     "output_type": "stream",
     "text": [
      "Epoch 133/150: 100%|██████████| 782/782 [03:37<00:00,  3.59it/s, accuracy=98.7, loss=0.555]\n"
     ]
    },
    {
     "name": "stdout",
     "output_type": "stream",
     "text": [
      "Epoch 133: Train Accuracy = 98.69%, Test Accuracy = 92.11%, Duration: 231.738s.\n"
     ]
    },
    {
     "name": "stderr",
     "output_type": "stream",
     "text": [
      "Epoch 134/150: 100%|██████████| 782/782 [03:38<00:00,  3.59it/s, accuracy=98.7, loss=0.531]\n"
     ]
    },
    {
     "name": "stdout",
     "output_type": "stream",
     "text": [
      "Epoch 134: Train Accuracy = 98.70%, Test Accuracy = 92.27%, Duration: 232.054s.\n"
     ]
    },
    {
     "name": "stderr",
     "output_type": "stream",
     "text": [
      "Epoch 135/150: 100%|██████████| 782/782 [03:37<00:00,  3.59it/s, accuracy=98.8, loss=0.597]\n"
     ]
    },
    {
     "name": "stdout",
     "output_type": "stream",
     "text": [
      "Epoch 135: Train Accuracy = 98.80%, Test Accuracy = 92.07%, Duration: 231.711s.\n"
     ]
    },
    {
     "name": "stderr",
     "output_type": "stream",
     "text": [
      "Epoch 136/150: 100%|██████████| 782/782 [03:37<00:00,  3.60it/s, accuracy=98.8, loss=0.826]\n"
     ]
    },
    {
     "name": "stdout",
     "output_type": "stream",
     "text": [
      "Epoch 136: Train Accuracy = 98.80%, Test Accuracy = 92.06%, Duration: 231.056s.\n"
     ]
    },
    {
     "name": "stderr",
     "output_type": "stream",
     "text": [
      "Epoch 137/150: 100%|██████████| 782/782 [03:38<00:00,  3.59it/s, accuracy=98.9, loss=0.556]\n"
     ]
    },
    {
     "name": "stdout",
     "output_type": "stream",
     "text": [
      "Epoch 137: Train Accuracy = 98.95%, Test Accuracy = 92.32%, Duration: 232.241s.\n"
     ]
    },
    {
     "name": "stderr",
     "output_type": "stream",
     "text": [
      "Epoch 138/150: 100%|██████████| 782/782 [03:40<00:00,  3.55it/s, accuracy=98.9, loss=0.547]\n"
     ]
    },
    {
     "name": "stdout",
     "output_type": "stream",
     "text": [
      "Epoch 138: Train Accuracy = 98.90%, Test Accuracy = 92.31%, Duration: 234.208s.\n"
     ]
    },
    {
     "name": "stderr",
     "output_type": "stream",
     "text": [
      "Epoch 139/150: 100%|██████████| 782/782 [03:39<00:00,  3.56it/s, accuracy=99, loss=0.549]  \n"
     ]
    },
    {
     "name": "stdout",
     "output_type": "stream",
     "text": [
      "Epoch 139: Train Accuracy = 99.05%, Test Accuracy = 92.22%, Duration: 233.705s.\n"
     ]
    },
    {
     "name": "stderr",
     "output_type": "stream",
     "text": [
      "Epoch 140/150: 100%|██████████| 782/782 [03:39<00:00,  3.56it/s, accuracy=99, loss=0.526]  \n"
     ]
    },
    {
     "name": "stdout",
     "output_type": "stream",
     "text": [
      "Epoch 140: Train Accuracy = 99.02%, Test Accuracy = 92.27%, Duration: 234.216s.\n"
     ]
    },
    {
     "name": "stderr",
     "output_type": "stream",
     "text": [
      "Epoch 141/150: 100%|██████████| 782/782 [03:40<00:00,  3.55it/s, accuracy=99, loss=0.788]  \n"
     ]
    },
    {
     "name": "stdout",
     "output_type": "stream",
     "text": [
      "Epoch 141: Train Accuracy = 99.01%, Test Accuracy = 92.34%, Duration: 234.606s.\n"
     ]
    },
    {
     "name": "stderr",
     "output_type": "stream",
     "text": [
      "Epoch 142/150: 100%|██████████| 782/782 [03:39<00:00,  3.55it/s, accuracy=99.1, loss=0.551]\n"
     ]
    },
    {
     "name": "stdout",
     "output_type": "stream",
     "text": [
      "Epoch 142: Train Accuracy = 99.05%, Test Accuracy = 92.28%, Duration: 234.252s.\n"
     ]
    },
    {
     "name": "stderr",
     "output_type": "stream",
     "text": [
      "Epoch 143/150: 100%|██████████| 782/782 [03:39<00:00,  3.56it/s, accuracy=99, loss=0.534]  \n"
     ]
    },
    {
     "name": "stdout",
     "output_type": "stream",
     "text": [
      "Epoch 143: Train Accuracy = 99.02%, Test Accuracy = 92.41%, Duration: 234.110s.\n"
     ]
    },
    {
     "name": "stderr",
     "output_type": "stream",
     "text": [
      "Epoch 144/150: 100%|██████████| 782/782 [03:39<00:00,  3.56it/s, accuracy=99.1, loss=0.525]\n"
     ]
    },
    {
     "name": "stdout",
     "output_type": "stream",
     "text": [
      "Epoch 144: Train Accuracy = 99.06%, Test Accuracy = 92.21%, Duration: 233.742s.\n"
     ]
    },
    {
     "name": "stderr",
     "output_type": "stream",
     "text": [
      "Epoch 145/150: 100%|██████████| 782/782 [03:40<00:00,  3.55it/s, accuracy=99.2, loss=0.622]\n"
     ]
    },
    {
     "name": "stdout",
     "output_type": "stream",
     "text": [
      "Epoch 145: Train Accuracy = 99.17%, Test Accuracy = 92.41%, Duration: 234.882s.\n"
     ]
    },
    {
     "name": "stderr",
     "output_type": "stream",
     "text": [
      "Epoch 146/150: 100%|██████████| 782/782 [03:40<00:00,  3.54it/s, accuracy=99.2, loss=0.567]\n"
     ]
    },
    {
     "name": "stdout",
     "output_type": "stream",
     "text": [
      "Epoch 146: Train Accuracy = 99.16%, Test Accuracy = 92.25%, Duration: 234.925s.\n"
     ]
    },
    {
     "name": "stderr",
     "output_type": "stream",
     "text": [
      "Epoch 147/150: 100%|██████████| 782/782 [03:41<00:00,  3.54it/s, accuracy=99.1, loss=0.593]\n"
     ]
    },
    {
     "name": "stdout",
     "output_type": "stream",
     "text": [
      "Epoch 147: Train Accuracy = 99.13%, Test Accuracy = 92.39%, Duration: 235.543s.\n"
     ]
    },
    {
     "name": "stderr",
     "output_type": "stream",
     "text": [
      "Epoch 148/150: 100%|██████████| 782/782 [03:40<00:00,  3.54it/s, accuracy=99.2, loss=0.704]\n"
     ]
    },
    {
     "name": "stdout",
     "output_type": "stream",
     "text": [
      "Epoch 148: Train Accuracy = 99.20%, Test Accuracy = 92.33%, Duration: 234.752s.\n"
     ]
    },
    {
     "name": "stderr",
     "output_type": "stream",
     "text": [
      "Epoch 149/150: 100%|██████████| 782/782 [03:49<00:00,  3.41it/s, accuracy=99.1, loss=0.519]\n"
     ]
    },
    {
     "name": "stdout",
     "output_type": "stream",
     "text": [
      "Epoch 149: Train Accuracy = 99.09%, Test Accuracy = 92.42%, Duration: 244.381s.\n"
     ]
    },
    {
     "name": "stderr",
     "output_type": "stream",
     "text": [
      "Epoch 150/150: 100%|██████████| 782/782 [03:57<00:00,  3.29it/s, accuracy=99.1, loss=0.577]\n"
     ]
    },
    {
     "name": "stdout",
     "output_type": "stream",
     "text": [
      "Epoch 150: Train Accuracy = 99.13%, Test Accuracy = 92.32%, Duration: 252.509s.\n",
      "\n",
      "Highest Test Accuracy Achieved: 92.42%\n"
     ]
    }
   ],
   "source": [
    "import torch.optim as optim\n",
    "from tqdm import tqdm\n",
    "import matplotlib.pyplot as plt\n",
    "import time\n",
    "from torch.optim.lr_scheduler import CosineAnnealingLR\n",
    "\n",
    "# Move model to GPU\n",
    "device = torch.device(\"cuda\" if torch.cuda.is_available() else \"cpu\")\n",
    "model = CIFARNet().to(device)\n",
    "\n",
    "# Training settings\n",
    "epochs = 150\n",
    "train_losses = []\n",
    "train_accuracies = []\n",
    "test_accuracies = []\n",
    "best_test_acc = 0.0\n",
    "\n",
    "# Loss and optimizer\n",
    "criterion = nn.CrossEntropyLoss(label_smoothing=0.1)\n",
    "optimizer = optim.SGD(model.parameters(), lr=0.1, momentum=0.9, weight_decay=1e-4)\n",
    "scheduler = CosineAnnealingLR(optimizer, T_max=epochs)\n",
    "\n",
    "for epoch in range(epochs):\n",
    "    start_time = time.perf_counter()\n",
    "    model.train()\n",
    "    running_loss = 0.0\n",
    "    correct = 0\n",
    "    total = 0\n",
    "\n",
    "    loop = tqdm(trainloader, desc=f\"Epoch {epoch+1}/{epochs}\")\n",
    "    for inputs, labels in loop:\n",
    "        inputs, labels = inputs.to(device), labels.to(device)\n",
    "\n",
    "        optimizer.zero_grad()\n",
    "        outputs = model(inputs)\n",
    "        loss = criterion(outputs, labels)\n",
    "        loss.backward()\n",
    "        optimizer.step()\n",
    "\n",
    "        # Stats\n",
    "        running_loss += loss.item()\n",
    "        train_losses.append(loss.item())\n",
    "        _, predicted = outputs.max(1)\n",
    "        total += labels.size(0)\n",
    "        correct += predicted.eq(labels).sum().item()\n",
    "\n",
    "        loop.set_postfix(loss=loss.item(), accuracy=100.*correct/total)\n",
    "\n",
    "    train_acc = 100. * correct / total\n",
    "    train_accuracies.append(train_acc)\n",
    "\n",
    "    # Evaluation\n",
    "    model.eval()\n",
    "    correct = 0\n",
    "    total = 0\n",
    "    with torch.no_grad():\n",
    "        for inputs, labels in testloader:\n",
    "            inputs, labels = inputs.to(device), labels.to(device)\n",
    "            outputs = model(inputs)\n",
    "            _, predicted = outputs.max(1)\n",
    "            total += labels.size(0)\n",
    "            correct += predicted.eq(labels).sum().item()\n",
    "\n",
    "    test_acc = 100. * correct / total\n",
    "    test_accuracies.append(test_acc)\n",
    "    if test_acc > best_test_acc:\n",
    "        best_test_acc = test_acc\n",
    "\n",
    "    end_time = time.perf_counter()\n",
    "    scheduler.step()\n",
    "\n",
    "    print(f\"Epoch {epoch+1}: Train Accuracy = {train_acc:.2f}%, Test Accuracy = {test_acc:.2f}%, Duration: {end_time - start_time:.3f}s.\")\n",
    "\n",
    "# Best test accuracy\n",
    "print(f\"\\nHighest Test Accuracy Achieved: {best_test_acc:.2f}%\")\n"
   ]
  },
  {
   "cell_type": "code",
   "execution_count": 24,
   "id": "5f27a743-9494-4a5a-84d2-5869fffad8da",
   "metadata": {
    "scrolled": true
   },
   "outputs": [
    {
     "data": {
      "image/png": "[encoded data removed]",
      "text/plain": [
       "<Figure size 1000x400 with 1 Axes>"
      ]
     },
     "metadata": {},
     "output_type": "display_data"
    },
    {
     "data": {
      "image/png": "[encoded data removed]",
      "text/plain": [
       "<Figure size 1000x400 with 1 Axes>"
      ]
     },
     "metadata": {},
     "output_type": "display_data"
    }
   ],
   "source": [
    "# Evaluation\n",
    "\n",
    "# Plot loss per batch\n",
    "plt.figure(figsize=(10, 4))\n",
    "plt.plot(train_losses)\n",
    "plt.title(\"Training Loss per Batch\")\n",
    "plt.xlabel(\"Batch\")\n",
    "plt.ylabel(\"Loss\")\n",
    "plt.grid(True)\n",
    "plt.show()\n",
    "\n",
    "# Plot accuracy per epoch\n",
    "plt.figure(figsize=(10, 4))\n",
    "plt.plot(train_accuracies, label=\"Train Accuracy\")\n",
    "plt.plot(test_accuracies, label=\"Test Accuracy\")\n",
    "plt.title(\"Accuracy per Epoch\")\n",
    "plt.xlabel(\"Epoch\")\n",
    "plt.ylabel(\"Accuracy (%)\")\n",
    "plt.legend()\n",
    "plt.grid(True)\n",
    "plt.show()\n"
   ]
  }
 ],
 "metadata": {
  "kernelspec": {
   "display_name": "Python 3 (ipykernel)",
   "language": "python",
   "name": "python3"
  },
  "language_info": {
   "codemirror_mode": {
    "name": "ipython",
    "version": 3
   },
   "file_extension": ".py",
   "mimetype": "text/x-python",
   "name": "python",
   "nbconvert_exporter": "python",
   "pygments_lexer": "ipython3",
   "version": "3.12.4"
  }
 },
 "nbformat": 4,
 "nbformat_minor": 5
}
